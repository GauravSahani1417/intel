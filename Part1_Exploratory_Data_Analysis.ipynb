{
  "nbformat": 4,
  "nbformat_minor": 0,
  "metadata": {
    "kernelspec": {
      "display_name": "tf_training",
      "language": "python",
      "name": "tf_training"
    },
    "language_info": {
      "codemirror_mode": {
        "name": "ipython",
        "version": 3
      },
      "file_extension": ".py",
      "mimetype": "text/x-python",
      "name": "python",
      "nbconvert_exporter": "python",
      "pygments_lexer": "ipython3",
      "version": "3.7.3"
    },
    "colab": {
      "name": "Part1-Exploratory_Data_Analysis.ipynb",
      "provenance": [],
      "collapsed_sections": []
    }
  },
  "cells": [
    {
      "cell_type": "markdown",
      "metadata": {
        "id": "EBPU3o1xVRV0"
      },
      "source": [
        "**Notices**\n",
        "\n",
        "Copyright (c) 2019 Intel Corporation.\n",
        "\n",
        "Permission is hereby granted, free of charge, to any person obtaining\n",
        "a copy of this software and associated documentation files (the\n",
        "\"Software\"), to deal in the Software without restriction, including\n",
        "without limitation the rights to use, copy, modify, merge, publish,\n",
        "distribute, sublicense, and/or sell copies of the Software, and to\n",
        "permit persons to whom the Software is furnished to do so, subject to\n",
        "the following conditions:\n",
        "\n",
        "The above copyright notice and this permission notice shall be\n",
        "included in all copies or substantial portions of the Software.\n",
        "\n",
        "THE SOFTWARE IS PROVIDED \"AS IS\", WITHOUT WARRANTY OF ANY KIND,\n",
        "EXPRESS OR IMPLIED, INCLUDING BUT NOT LIMITED TO THE WARRANTIES OF\n",
        "MERCHANTABILITY, FITNESS FOR A PARTICULAR PURPOSE AND\n",
        "NONINFRINGEMENT. IN NO EVENT SHALL THE AUTHORS OR COPYRIGHT HOLDERS BE\n",
        "LIABLE FOR ANY CLAIM, DAMAGES OR OTHER LIABILITY, WHETHER IN AN ACTION\n",
        "OF CONTRACT, TORT OR OTHERWISE, ARISING FROM, OUT OF OR IN CONNECTION\n",
        "WITH THE SOFTWARE OR THE USE OR OTHER DEALINGS IN THE SOFTWARE.\n"
      ]
    },
    {
      "cell_type": "markdown",
      "metadata": {
        "id": "CeE4k3jPVRV2"
      },
      "source": [
        "# Data Wrangling with VMMRdb on CPU\n",
        "\n",
        "## Objective\n",
        "\n",
        "Understand ways to find a data set and to prepare a data set for machine learning and training.\n",
        "\n",
        "## Activities \n",
        "**In this section of the training you will**\n",
        "- Fetch and visually inspect a dataset \n",
        "- Create a dataset to address a real life problem\n",
        "- Image Preprocessing\n",
        "- Data Augmentation Techniques\n",
        "- Address Imbalanced Dataset Problem\n",
        "- Organize a dataset into training, validation and testing groups\n",
        "- Finalize an augmented dataset for training, and testing\n",
        "\n",
        "As you follow this notebook, complete **Activity** sections to finish this workload. \n"
      ]
    },
    {
      "cell_type": "markdown",
      "metadata": {
        "id": "rdA7lBrGVRV4"
      },
      "source": [
        "### 1.1 Find a Data set\n",
        "\n",
        "Artificial intelligence projects depend upon data. When beginning a project, data scientists look for existing data sets that are similar to or match the given problem. This saves time and money, and leverages the work of others, building upon the body of knowledge for all future projects. \n",
        "\n",
        "Typically you begin with a search engine query. For this project, we were looking for a data set with an unencumbered license.\n",
        "\n",
        "This project starts with [Vehicle Make and Model Recognition Dataset (VMMRdb)](http://vmmrdb.cecsresearch.org/)   which is large in scale and diversity, containing 9,170 classes consisting of 291,752 images, covering models manufactured between 1950 to 2016. VMMRdb dataset contains images that were taken by different users, different imaging devices, and multiple view angles, ensuring a wide range of variations to account for various scenarios that could be encountered in a real-life scenario. The cars are not well aligned, and some images contain irrelevant background. The data covers vehicles from 712 areas covering all 412 sub-domains corresponding to US metro areas. VMMRdb dataset can be used as a baseline for training a robust model in several real-life scenarios for traffic surveillance. "
      ]
    },
    {
      "cell_type": "markdown",
      "metadata": {
        "id": "f1qrtsaRVRV5"
      },
      "source": [
        "### 1.2 Subset of the Data\n",
        "\n",
        "Although we used the initial data set during our initial exploration, we are only providing a subset of the relevant data used for training.  This means that you don't have download an 11GB dataset but instead just use the existing data set provided with the notebook.  We maintained the original folder structure of the dataset but removed classes we're not utilizing."
      ]
    },
    {
      "cell_type": "markdown",
      "metadata": {
        "id": "1_T_rJEPVRV6"
      },
      "source": [
        "### 1.3 Hottest Wheels: The Most Stolen New And Used Cars In The U.S.\n",
        "\n",
        "![Create Dataset for Problem](https://storage.googleapis.com/datasetsbyali/intel_assets/EDA_1-1.png)\n",
        "\n",
        "The most popular vehicle in America—at least among thieves—is neither a rip-roaring sports car nor a plush luxury sedan. Heck, it’s not even an SUV. Instead, the most stolen vehicle is a plain vanilla 1996 Honda Civic that otherwise gets lost in a crowded parking lot. A total of 45,052 older-model Civics were pilfered last year. Among brand-new vehicles, another average family car tops the list, the Nissan Altima. Some 1,153 Altimas from the 2017 model year were taken last year.\n",
        "\n",
        "Here are the 10 most stolen used cars according to the NICB, with the most “popular” model year noted along with the total number of units from all model years taken:\n",
        "\n",
        "- Honda Civic (1998): 45,062\n",
        "- Honda Accord (1997): 43,764\n",
        "- Ford F-150 (2006): 35,105\n",
        "- Chevrolet Silverado (2004): 30.056\n",
        "- Toyota Camry (2017): 17,276\n",
        "- Nissan Altima (2016):  13,358\n",
        "- Toyota Corolla (2016): 12,337\n",
        "- Dodge/Ram Pickup (2001): 12,004\n",
        "- GMC Sierra (2017): 10,865\n",
        "- Chevrolet Impala (2008): 9,487\n",
        "\n",
        "### 1.4 Select and Merge Interested Classes\n",
        "\n",
        "In this section, we're going to look at merging cars that are the same Make/Model but look at the years nearby since cars usually look the same for 3-4 years before changing styles.  Below we'll see a dictionary containing the base car we're looking for and all the relevant cars that we're going to include in that category.\n",
        "\n",
        "Honda Civic (1998): 45,062\t        -> Honda Civic (1997 - 1998)\n",
        "Honda Accord (1997): 43,764\t        -> Honda Accord (1996 - 1997)\n",
        "Ford F-150 (2006): 35,105\t        -> Ford F150 (2005 - 2007)\n",
        "Chevrolet Silverado (2004): 30,056\t-> Chevrolet Silverado (2003 - 2004)\n",
        "Toyota Camry (2017): 17,276         -> Toyota Camry (2012 - 2014)\n",
        "Nissan Altima (2016):  13,358       -> Nissan Altima (2013 - 2015)\n",
        "Toyota Corolla (2016): 12,337       -> Toyota Corolla (2011 - 2013)\n",
        "Dodge/Ram Pickup (2001): 12,004\t    -> Dodge Ram 1500 (1995 - 2001)\n",
        "GMC Sierra (2017): 10,865           -> GMC Sierra 1500 (2007 - 2013)\n",
        "Chevrolet Impala (2008): 9,487\t    -> Chevrolet Impala (2007 - 2009)\n",
        "\n",
        "After merging the directories appropriately we're going take a look at a random subset of images in each of the categories.\n",
        "\n",
        "Click the cell below and then click **Run**."
      ]
    },
    {
      "cell_type": "code",
      "metadata": {
        "id": "UBXYUs9RWTAl",
        "colab": {
          "base_uri": "https://localhost:8080/",
          "height": 227
        },
        "outputId": "0e8db435-085d-4dff-9cd2-9e9de15a8b03"
      },
      "source": [
        " !wget  https://storage.googleapis.com/datasetsbyali/dataset_intel.zip"
      ],
      "execution_count": null,
      "outputs": [
        {
          "output_type": "stream",
          "text": [
            "--2020-07-04 15:18:47--  https://storage.googleapis.com/datasetsbyali/dataset_intel.zip\n",
            "Resolving storage.googleapis.com (storage.googleapis.com)... 64.233.189.128, 108.177.125.128, 74.125.23.128, ...\n",
            "Connecting to storage.googleapis.com (storage.googleapis.com)|64.233.189.128|:443... connected.\n",
            "HTTP request sent, awaiting response... 200 OK\n",
            "Length: 242332878 (231M) [application/x-zip-compressed]\n",
            "Saving to: ‘dataset_intel.zip.1’\n",
            "\n",
            "dataset_intel.zip.1 100%[===================>] 231.11M   174MB/s    in 1.3s    \n",
            "\n",
            "2020-07-04 15:18:49 (174 MB/s) - ‘dataset_intel.zip.1’ saved [242332878/242332878]\n",
            "\n"
          ],
          "name": "stdout"
        }
      ]
    },
    {
      "cell_type": "code",
      "metadata": {
        "id": "D-vSSR1OW0FK",
        "colab": {
          "base_uri": "https://localhost:8080/",
          "height": 52
        },
        "outputId": "c11b14fb-382a-4e4e-b5bb-7a0a59c3bab0"
      },
      "source": [
        "!unzip dataset_intel.zip"
      ],
      "execution_count": null,
      "outputs": [
        {
          "output_type": "stream",
          "text": [
            "Archive:  dataset_intel.zip\n",
            "replace Dataset_License.pdf? [y]es, [n]o, [A]ll, [N]one, [r]ename: "
          ],
          "name": "stdout"
        }
      ]
    },
    {
      "cell_type": "code",
      "metadata": {
        "id": "9aSbAwDIZLRG",
        "colab": {
          "base_uri": "https://localhost:8080/",
          "height": 207
        },
        "outputId": "d543f45c-b791-47b5-bee4-619a59dde8df"
      },
      "source": [
        ""
      ],
      "execution_count": null,
      "outputs": [
        {
          "output_type": "stream",
          "text": [
            "--2020-07-04 15:19:27--  http://iali.in/datasets/intel/vmmr_utils.py\n",
            "Resolving iali.in (iali.in)... 156.67.222.125\n",
            "Connecting to iali.in (iali.in)|156.67.222.125|:80... connected.\n",
            "HTTP request sent, awaiting response... 200 OK\n",
            "Length: 3951 (3.9K) [text/plain]\n",
            "Saving to: ‘vmmr_utils.py.1’\n",
            "\n",
            "\rvmmr_utils.py.1       0%[                    ]       0  --.-KB/s               \rvmmr_utils.py.1     100%[===================>]   3.86K  --.-KB/s    in 0s      \n",
            "\n",
            "2020-07-04 15:19:28 (510 MB/s) - ‘vmmr_utils.py.1’ saved [3951/3951]\n",
            "\n"
          ],
          "name": "stdout"
        }
      ]
    },
    {
      "cell_type": "code",
      "metadata": {
        "scrolled": false,
        "id": "KWgHGOvtVRV8",
        "colab": {
          "base_uri": "https://localhost:8080/",
          "height": 190
        },
        "outputId": "5ee8de40-3374-4817-96b9-9cf099c9be20"
      },
      "source": [
        "import os\n",
        "import shutil\n",
        "import glob\n",
        "import vmmr_utils\n",
        "import matplotlib.pyplot as plt\n",
        "%matplotlib inline\n",
        "\n",
        "cars = {\n",
        "    \"honda_civic_1998\": [\"honda_civic_1997\", \"honda_civic_1998\"], # available \"honda_civic_1999\"\n",
        "    \"honda_accord_1997\": [\"honda_accord_1996\", \"honda_accord_1997\"],\n",
        "    \"ford_f150_2006\": [\"ford_f150_2005\", \"ford_f150_2006\", \"ford_f150_2007\"],\n",
        "    \"chevrolet_silverado_2004\": [\"chevrolet_silverado_2003\", \"chevrolet_silverado_2004\"], # available \"chevrolet_silverado_2005\"\n",
        "    \"toyota_camry_2014\": [\"toyota_camry_2012\", \"toyota_camry_2013\", \"toyota_camry_2014\", \"toyota_camry_le_2012\", \"toyota_camry_le_2013\", \"toyota_camry_le_2014\", \"toyota_camry_se_2012\", \"toyota_camry_se_2013\", \"toyota_camry_xle_2012\", \"toyota_camry_xle_2013\"],\n",
        "    \"nissan_altima_2014\": [\"nissan_altima_2013\", \"nissan_altima_2014\", \"nissan_altima_2015\"],\n",
        "    \"toyota_corolla_2013\": [\"toyota_corolla_2011\", \"toyota_corolla_2012\", \"toyota_corolla_2013\", \"toyota_corolla_ce_2012\", \"toyota_corolla_le_2012\", \"toyota_corolla_le_2013\", \"toyota_corolla_s_2011\", \"toyota_corolla_s_2012\"],\n",
        "    \"dodge_ram_2001\": [\"dodge_ram_1500_2000\", \"dodge_ram_1500_2001\", \"dodge_ram_1500_1999\", \"dodge_ram_1500_1998\", \"dodge_ram_1500_1997\", \"dodge_ram_1500_1996\", \"dodge_ram_1500_1995\"],\n",
        "    \"gmc_sierra_2012\": [\"gmc_sierra_1500_2007\", \"gmc_sierra_1500_2008\", \"gmc_sierra_1500_2009\", \"gmc_sierra_1500_2010\", \"gmc_sierra_1500_2011\", \"gmc_sierra_1500_2012\", \"gmc_sierra_1500_2013\", \"gmc_sierra_2500_2007\", \"gmc_sierra_2500_2008\", \"gmc_sierra_2500_2009\", \"gmc_sierra_2500_2010\", \"gmc_sierra_2500_2011\", \"gmc_sierra_2500_2012\", \"gmc_sierra_2500_2013\"],\n",
        "    \"chevrolet_impala_2008\": [\"chevrolet_impala_2007\", \"chevrolet_impala_2008\", \"chevrolet_impala_2009\"]\n",
        "}\n",
        "\n",
        "\n",
        "full_dataset_path = \"content/SubsetVMMR\"\n",
        "stolen_cars_path = \"content/Most_Stolen_Cars\"\n",
        "\n",
        "if os.path.exists(stolen_cars_path):\n",
        "    shutil.rmtree(stolen_cars_path)\n",
        "else:\n",
        "    os.makedirs(stolen_cars_path)\n",
        "\n",
        "for directory, car_list in cars.items():\n",
        "    print(\"Creating\", directory)\n",
        "    car_directory_name = os.path.join(stolen_cars_path, directory)\n",
        "    os.makedirs(car_directory_name)\n",
        "    for car in car_list:\n",
        "        path = os.path.join(full_dataset_path, car, \"\")\n",
        "        files = glob.glob(path + '*.jpg')\n",
        "        for file in files:\n",
        "            shutil.copy(file, car_directory_name)\n",
        "\n",
        "#vmmr_utils.display_images(stolen_cars_path)"
      ],
      "execution_count": null,
      "outputs": [
        {
          "output_type": "stream",
          "text": [
            "Creating honda_civic_1998\n",
            "Creating honda_accord_1997\n",
            "Creating ford_f150_2006\n",
            "Creating chevrolet_silverado_2004\n",
            "Creating toyota_camry_2014\n",
            "Creating nissan_altima_2014\n",
            "Creating toyota_corolla_2013\n",
            "Creating dodge_ram_2001\n",
            "Creating gmc_sierra_2012\n",
            "Creating chevrolet_impala_2008\n"
          ],
          "name": "stdout"
        }
      ]
    },
    {
      "cell_type": "markdown",
      "metadata": {
        "id": "Bsz9MZKuVRWF"
      },
      "source": [
        "### 2.1 Remove Invalid, Corrupt and Non-JPG files\n",
        "\n",
        "![Clean images](https://storage.googleapis.com/datasetsbyali/intel_assets/EDA_1-2.png)\n",
        "\n",
        "In this section, we remove images that are not in \".jpg\" format or that can not be read by cv2 module. We're utilizing the multiprocessing function so that we can take advantage of all of the cores on our machine to make the process go quickly\n",
        "\n",
        "Click the cell below and then click **Run**."
      ]
    },
    {
      "cell_type": "code",
      "metadata": {
        "id": "_2ppkXTaVRWK",
        "colab": {
          "base_uri": "https://localhost:8080/",
          "height": 34
        },
        "outputId": "54e87167-599a-4269-a229-e4a9016448e8"
      },
      "source": [
        "from multiprocessing import Pool\n",
        "\n",
        "#Check Images\n",
        "if __name__ == '__main__':\n",
        "    pool = Pool()\n",
        "    image_list = glob.glob(stolen_cars_path + \"/*/*\")\n",
        "    pool.map(vmmr_utils.check_image, image_list)\n",
        "    pool.close()\n",
        "\n",
        "print('Done.')"
      ],
      "execution_count": null,
      "outputs": [
        {
          "output_type": "stream",
          "text": [
            "Done.\n"
          ],
          "name": "stdout"
        }
      ]
    },
    {
      "cell_type": "markdown",
      "metadata": {
        "id": "D3JH-pS2VRWR"
      },
      "source": [
        "### 2.2 Distribution of Selected Classes\n",
        "\n",
        "![View Data Distribution](https://storage.googleapis.com/datasetsbyali/intel_assets/EDA_1-3.png)\n",
        "\n",
        "Now, we can take a look at the class distribution of our problem statement. We're importing PyGal and creating a wrapper for rendering the chart inline, then passing in our data to the charting function.\n",
        "\n",
        "Click the cell below and then click **Run**."
      ]
    },
    {
      "cell_type": "code",
      "metadata": {
        "id": "rHqkVev5aogn",
        "colab": {
          "base_uri": "https://localhost:8080/",
          "height": 124
        },
        "outputId": "95ccc0f5-4470-4306-a9bd-ca004adfebc7"
      },
      "source": [
        "!pip install pygal"
      ],
      "execution_count": null,
      "outputs": [
        {
          "output_type": "stream",
          "text": [
            "Collecting pygal\n",
            "\u001b[?25l  Downloading https://files.pythonhosted.org/packages/5f/b7/201c9254ac0d2b8ffa3bb2d528d23a4130876d9ba90bc28e99633f323f17/pygal-2.4.0-py2.py3-none-any.whl (127kB)\n",
            "\r\u001b[K     |██▋                             | 10kB 16.1MB/s eta 0:00:01\r\u001b[K     |█████▏                          | 20kB 1.7MB/s eta 0:00:01\r\u001b[K     |███████▊                        | 30kB 2.2MB/s eta 0:00:01\r\u001b[K     |██████████▎                     | 40kB 2.5MB/s eta 0:00:01\r\u001b[K     |████████████▉                   | 51kB 2.0MB/s eta 0:00:01\r\u001b[K     |███████████████▍                | 61kB 2.3MB/s eta 0:00:01\r\u001b[K     |██████████████████              | 71kB 2.5MB/s eta 0:00:01\r\u001b[K     |████████████████████▌           | 81kB 2.8MB/s eta 0:00:01\r\u001b[K     |███████████████████████▏        | 92kB 2.9MB/s eta 0:00:01\r\u001b[K     |█████████████████████████▊      | 102kB 2.8MB/s eta 0:00:01\r\u001b[K     |████████████████████████████▎   | 112kB 2.8MB/s eta 0:00:01\r\u001b[K     |██████████████████████████████▉ | 122kB 2.8MB/s eta 0:00:01\r\u001b[K     |████████████████████████████████| 133kB 2.8MB/s \n",
            "\u001b[?25hInstalling collected packages: pygal\n",
            "Successfully installed pygal-2.4.0\n"
          ],
          "name": "stdout"
        }
      ]
    },
    {
      "cell_type": "code",
      "metadata": {
        "scrolled": true,
        "id": "BiityRBsVRWS",
        "colab": {
          "base_uri": "https://localhost:8080/",
          "height": 321
        },
        "outputId": "cfa8136a-e7f2-4e71-ea1b-d5afdfe1b7d4"
      },
      "source": [
        "import pygal \n",
        "from IPython.display import display, HTML\n",
        "#Create function to display interactive plotting\n",
        "base_html = \"\"\"\n",
        "<!DOCTYPE html>\n",
        "<html>\n",
        "  <head>\n",
        "  <script type=\"text/javascript\" src=\"http://kozea.github.com/pygal.js/javascripts/svg.jquery.js\"></script>\n",
        "  <script type=\"text/javascript\" src=\"https://kozea.github.io/pygal.js/2.0.x/pygal-tooltips.min.js\"\"></script>\n",
        "  </head>\n",
        "  <body>\n",
        "    <figure>\n",
        "      {rendered_chart}\n",
        "    </figure>\n",
        "  </body>\n",
        "</html>\n",
        "\"\"\"\n",
        "\n",
        "def galplot(chart):\n",
        "    rendered_chart = chart.render(is_unicode=True)\n",
        "    plot_html = base_html.format(rendered_chart=rendered_chart)\n",
        "    display(HTML(plot_html))\n",
        "    \n",
        "#Compare class distribution\n",
        "line_chart = pygal.Bar(height=300)\n",
        "line_chart.title = 'Stolen Car Class Distribution'\n",
        "for o in os.listdir(stolen_cars_path):\n",
        "    line_chart.add(o, len(os.listdir(os.path.join(stolen_cars_path, o))))\n",
        "galplot(line_chart)"
      ],
      "execution_count": null,
      "outputs": [
        {
          "output_type": "display_data",
          "data": {
            "text/html": [
              "\n",
              "<!DOCTYPE html>\n",
              "<html>\n",
              "  <head>\n",
              "  <script type=\"text/javascript\" src=\"http://kozea.github.com/pygal.js/javascripts/svg.jquery.js\"></script>\n",
              "  <script type=\"text/javascript\" src=\"https://kozea.github.io/pygal.js/2.0.x/pygal-tooltips.min.js\"\"></script>\n",
              "  </head>\n",
              "  <body>\n",
              "    <figure>\n",
              "      <?xml version='1.0' encoding='utf-8'?>\n",
              "<svg xmlns:xlink=\"http://www.w3.org/1999/xlink\" xmlns=\"http://www.w3.org/2000/svg\" id=\"chart-510b0a63-e092-4ff4-88d2-51b9fe8f5536\" class=\"pygal-chart\" viewBox=\"0 0 800 300\"><!--Generated with pygal 2.4.0 (lxml) ©Kozea 2012-2016 on 2020-07-04--><!--http://pygal.org--><!--http://github.com/Kozea/pygal--><defs><style type=\"text/css\">#chart-510b0a63-e092-4ff4-88d2-51b9fe8f5536{-webkit-user-select:none;-webkit-font-smoothing:antialiased;font-family:Consolas,\"Liberation Mono\",Menlo,Courier,monospace}#chart-510b0a63-e092-4ff4-88d2-51b9fe8f5536 .title{font-family:Consolas,\"Liberation Mono\",Menlo,Courier,monospace;font-size:16px}#chart-510b0a63-e092-4ff4-88d2-51b9fe8f5536 .legends .legend text{font-family:Consolas,\"Liberation Mono\",Menlo,Courier,monospace;font-size:14px}#chart-510b0a63-e092-4ff4-88d2-51b9fe8f5536 .axis text{font-family:Consolas,\"Liberation Mono\",Menlo,Courier,monospace;font-size:10px}#chart-510b0a63-e092-4ff4-88d2-51b9fe8f5536 .axis text.major{font-family:Consolas,\"Liberation Mono\",Menlo,Courier,monospace;font-size:10px}#chart-510b0a63-e092-4ff4-88d2-51b9fe8f5536 .text-overlay text.value{font-family:Consolas,\"Liberation Mono\",Menlo,Courier,monospace;font-size:16px}#chart-510b0a63-e092-4ff4-88d2-51b9fe8f5536 .text-overlay text.label{font-family:Consolas,\"Liberation Mono\",Menlo,Courier,monospace;font-size:10px}#chart-510b0a63-e092-4ff4-88d2-51b9fe8f5536 .tooltip{font-family:Consolas,\"Liberation Mono\",Menlo,Courier,monospace;font-size:14px}#chart-510b0a63-e092-4ff4-88d2-51b9fe8f5536 text.no_data{font-family:Consolas,\"Liberation Mono\",Menlo,Courier,monospace;font-size:64px}\n",
              "#chart-510b0a63-e092-4ff4-88d2-51b9fe8f5536{background-color:rgba(249,249,249,1)}#chart-510b0a63-e092-4ff4-88d2-51b9fe8f5536 path,#chart-510b0a63-e092-4ff4-88d2-51b9fe8f5536 line,#chart-510b0a63-e092-4ff4-88d2-51b9fe8f5536 rect,#chart-510b0a63-e092-4ff4-88d2-51b9fe8f5536 circle{-webkit-transition:150ms;-moz-transition:150ms;transition:150ms}#chart-510b0a63-e092-4ff4-88d2-51b9fe8f5536 .graph &gt; .background{fill:rgba(249,249,249,1)}#chart-510b0a63-e092-4ff4-88d2-51b9fe8f5536 .plot &gt; .background{fill:rgba(255,255,255,1)}#chart-510b0a63-e092-4ff4-88d2-51b9fe8f5536 .graph{fill:rgba(0,0,0,.87)}#chart-510b0a63-e092-4ff4-88d2-51b9fe8f5536 text.no_data{fill:rgba(0,0,0,1)}#chart-510b0a63-e092-4ff4-88d2-51b9fe8f5536 .title{fill:rgba(0,0,0,1)}#chart-510b0a63-e092-4ff4-88d2-51b9fe8f5536 .legends .legend text{fill:rgba(0,0,0,.87)}#chart-510b0a63-e092-4ff4-88d2-51b9fe8f5536 .legends .legend:hover text{fill:rgba(0,0,0,1)}#chart-510b0a63-e092-4ff4-88d2-51b9fe8f5536 .axis .line{stroke:rgba(0,0,0,1)}#chart-510b0a63-e092-4ff4-88d2-51b9fe8f5536 .axis .guide.line{stroke:rgba(0,0,0,.54)}#chart-510b0a63-e092-4ff4-88d2-51b9fe8f5536 .axis .major.line{stroke:rgba(0,0,0,.87)}#chart-510b0a63-e092-4ff4-88d2-51b9fe8f5536 .axis text.major{fill:rgba(0,0,0,1)}#chart-510b0a63-e092-4ff4-88d2-51b9fe8f5536 .axis.y .guides:hover .guide.line,#chart-510b0a63-e092-4ff4-88d2-51b9fe8f5536 .line-graph .axis.x .guides:hover .guide.line,#chart-510b0a63-e092-4ff4-88d2-51b9fe8f5536 .stackedline-graph .axis.x .guides:hover .guide.line,#chart-510b0a63-e092-4ff4-88d2-51b9fe8f5536 .xy-graph .axis.x .guides:hover .guide.line{stroke:rgba(0,0,0,1)}#chart-510b0a63-e092-4ff4-88d2-51b9fe8f5536 .axis .guides:hover text{fill:rgba(0,0,0,1)}#chart-510b0a63-e092-4ff4-88d2-51b9fe8f5536 .reactive{fill-opacity:.7;stroke-opacity:.8}#chart-510b0a63-e092-4ff4-88d2-51b9fe8f5536 .ci{stroke:rgba(0,0,0,.87)}#chart-510b0a63-e092-4ff4-88d2-51b9fe8f5536 .reactive.active,#chart-510b0a63-e092-4ff4-88d2-51b9fe8f5536 .active .reactive{fill-opacity:.8;stroke-opacity:.9;stroke-width:4}#chart-510b0a63-e092-4ff4-88d2-51b9fe8f5536 .ci .reactive.active{stroke-width:1.5}#chart-510b0a63-e092-4ff4-88d2-51b9fe8f5536 .series text{fill:rgba(0,0,0,1)}#chart-510b0a63-e092-4ff4-88d2-51b9fe8f5536 .tooltip rect{fill:rgba(255,255,255,1);stroke:rgba(0,0,0,1);-webkit-transition:opacity 150ms;-moz-transition:opacity 150ms;transition:opacity 150ms}#chart-510b0a63-e092-4ff4-88d2-51b9fe8f5536 .tooltip .label{fill:rgba(0,0,0,.87)}#chart-510b0a63-e092-4ff4-88d2-51b9fe8f5536 .tooltip .label{fill:rgba(0,0,0,.87)}#chart-510b0a63-e092-4ff4-88d2-51b9fe8f5536 .tooltip .legend{font-size:.8em;fill:rgba(0,0,0,.54)}#chart-510b0a63-e092-4ff4-88d2-51b9fe8f5536 .tooltip .x_label{font-size:.6em;fill:rgba(0,0,0,1)}#chart-510b0a63-e092-4ff4-88d2-51b9fe8f5536 .tooltip .xlink{font-size:.5em;text-decoration:underline}#chart-510b0a63-e092-4ff4-88d2-51b9fe8f5536 .tooltip .value{font-size:1.5em}#chart-510b0a63-e092-4ff4-88d2-51b9fe8f5536 .bound{font-size:.5em}#chart-510b0a63-e092-4ff4-88d2-51b9fe8f5536 .max-value{font-size:.75em;fill:rgba(0,0,0,.54)}#chart-510b0a63-e092-4ff4-88d2-51b9fe8f5536 .map-element{fill:rgba(255,255,255,1);stroke:rgba(0,0,0,.54) !important}#chart-510b0a63-e092-4ff4-88d2-51b9fe8f5536 .map-element .reactive{fill-opacity:inherit;stroke-opacity:inherit}#chart-510b0a63-e092-4ff4-88d2-51b9fe8f5536 .color-0,#chart-510b0a63-e092-4ff4-88d2-51b9fe8f5536 .color-0 a:visited{stroke:#F44336;fill:#F44336}#chart-510b0a63-e092-4ff4-88d2-51b9fe8f5536 .color-1,#chart-510b0a63-e092-4ff4-88d2-51b9fe8f5536 .color-1 a:visited{stroke:#3F51B5;fill:#3F51B5}#chart-510b0a63-e092-4ff4-88d2-51b9fe8f5536 .color-2,#chart-510b0a63-e092-4ff4-88d2-51b9fe8f5536 .color-2 a:visited{stroke:#009688;fill:#009688}#chart-510b0a63-e092-4ff4-88d2-51b9fe8f5536 .color-3,#chart-510b0a63-e092-4ff4-88d2-51b9fe8f5536 .color-3 a:visited{stroke:#FFC107;fill:#FFC107}#chart-510b0a63-e092-4ff4-88d2-51b9fe8f5536 .color-4,#chart-510b0a63-e092-4ff4-88d2-51b9fe8f5536 .color-4 a:visited{stroke:#FF5722;fill:#FF5722}#chart-510b0a63-e092-4ff4-88d2-51b9fe8f5536 .color-5,#chart-510b0a63-e092-4ff4-88d2-51b9fe8f5536 .color-5 a:visited{stroke:#9C27B0;fill:#9C27B0}#chart-510b0a63-e092-4ff4-88d2-51b9fe8f5536 .color-6,#chart-510b0a63-e092-4ff4-88d2-51b9fe8f5536 .color-6 a:visited{stroke:#03A9F4;fill:#03A9F4}#chart-510b0a63-e092-4ff4-88d2-51b9fe8f5536 .color-7,#chart-510b0a63-e092-4ff4-88d2-51b9fe8f5536 .color-7 a:visited{stroke:#8BC34A;fill:#8BC34A}#chart-510b0a63-e092-4ff4-88d2-51b9fe8f5536 .color-8,#chart-510b0a63-e092-4ff4-88d2-51b9fe8f5536 .color-8 a:visited{stroke:#FF9800;fill:#FF9800}#chart-510b0a63-e092-4ff4-88d2-51b9fe8f5536 .color-9,#chart-510b0a63-e092-4ff4-88d2-51b9fe8f5536 .color-9 a:visited{stroke:#E91E63;fill:#E91E63}#chart-510b0a63-e092-4ff4-88d2-51b9fe8f5536 .text-overlay .color-0 text{fill:black}#chart-510b0a63-e092-4ff4-88d2-51b9fe8f5536 .text-overlay .color-1 text{fill:black}#chart-510b0a63-e092-4ff4-88d2-51b9fe8f5536 .text-overlay .color-2 text{fill:black}#chart-510b0a63-e092-4ff4-88d2-51b9fe8f5536 .text-overlay .color-3 text{fill:black}#chart-510b0a63-e092-4ff4-88d2-51b9fe8f5536 .text-overlay .color-4 text{fill:black}#chart-510b0a63-e092-4ff4-88d2-51b9fe8f5536 .text-overlay .color-5 text{fill:black}#chart-510b0a63-e092-4ff4-88d2-51b9fe8f5536 .text-overlay .color-6 text{fill:black}#chart-510b0a63-e092-4ff4-88d2-51b9fe8f5536 .text-overlay .color-7 text{fill:black}#chart-510b0a63-e092-4ff4-88d2-51b9fe8f5536 .text-overlay .color-8 text{fill:black}#chart-510b0a63-e092-4ff4-88d2-51b9fe8f5536 .text-overlay .color-9 text{fill:black}\n",
              "#chart-510b0a63-e092-4ff4-88d2-51b9fe8f5536 text.no_data{text-anchor:middle}#chart-510b0a63-e092-4ff4-88d2-51b9fe8f5536 .guide.line{fill:none}#chart-510b0a63-e092-4ff4-88d2-51b9fe8f5536 .centered{text-anchor:middle}#chart-510b0a63-e092-4ff4-88d2-51b9fe8f5536 .title{text-anchor:middle}#chart-510b0a63-e092-4ff4-88d2-51b9fe8f5536 .legends .legend text{fill-opacity:1}#chart-510b0a63-e092-4ff4-88d2-51b9fe8f5536 .axis.x text{text-anchor:middle}#chart-510b0a63-e092-4ff4-88d2-51b9fe8f5536 .axis.x:not(.web) text[transform]{text-anchor:start}#chart-510b0a63-e092-4ff4-88d2-51b9fe8f5536 .axis.x:not(.web) text[transform].backwards{text-anchor:end}#chart-510b0a63-e092-4ff4-88d2-51b9fe8f5536 .axis.y text{text-anchor:end}#chart-510b0a63-e092-4ff4-88d2-51b9fe8f5536 .axis.y text[transform].backwards{text-anchor:start}#chart-510b0a63-e092-4ff4-88d2-51b9fe8f5536 .axis.y2 text{text-anchor:start}#chart-510b0a63-e092-4ff4-88d2-51b9fe8f5536 .axis.y2 text[transform].backwards{text-anchor:end}#chart-510b0a63-e092-4ff4-88d2-51b9fe8f5536 .axis .guide.line{stroke-dasharray:4,4}#chart-510b0a63-e092-4ff4-88d2-51b9fe8f5536 .axis .major.guide.line{stroke-dasharray:6,6}#chart-510b0a63-e092-4ff4-88d2-51b9fe8f5536 .horizontal .axis.y .guide.line,#chart-510b0a63-e092-4ff4-88d2-51b9fe8f5536 .horizontal .axis.y2 .guide.line,#chart-510b0a63-e092-4ff4-88d2-51b9fe8f5536 .vertical .axis.x .guide.line{opacity:0}#chart-510b0a63-e092-4ff4-88d2-51b9fe8f5536 .horizontal .axis.always_show .guide.line,#chart-510b0a63-e092-4ff4-88d2-51b9fe8f5536 .vertical .axis.always_show .guide.line{opacity:1 !important}#chart-510b0a63-e092-4ff4-88d2-51b9fe8f5536 .axis.y .guides:hover .guide.line,#chart-510b0a63-e092-4ff4-88d2-51b9fe8f5536 .axis.y2 .guides:hover .guide.line,#chart-510b0a63-e092-4ff4-88d2-51b9fe8f5536 .axis.x .guides:hover .guide.line{opacity:1}#chart-510b0a63-e092-4ff4-88d2-51b9fe8f5536 .axis .guides:hover text{opacity:1}#chart-510b0a63-e092-4ff4-88d2-51b9fe8f5536 .nofill{fill:none}#chart-510b0a63-e092-4ff4-88d2-51b9fe8f5536 .subtle-fill{fill-opacity:.2}#chart-510b0a63-e092-4ff4-88d2-51b9fe8f5536 .dot{stroke-width:1px;fill-opacity:1}#chart-510b0a63-e092-4ff4-88d2-51b9fe8f5536 .dot.active{stroke-width:5px}#chart-510b0a63-e092-4ff4-88d2-51b9fe8f5536 .dot.negative{fill:transparent}#chart-510b0a63-e092-4ff4-88d2-51b9fe8f5536 text,#chart-510b0a63-e092-4ff4-88d2-51b9fe8f5536 tspan{stroke:none !important}#chart-510b0a63-e092-4ff4-88d2-51b9fe8f5536 .series text.active{opacity:1}#chart-510b0a63-e092-4ff4-88d2-51b9fe8f5536 .tooltip rect{fill-opacity:.95;stroke-width:.5}#chart-510b0a63-e092-4ff4-88d2-51b9fe8f5536 .tooltip text{fill-opacity:1}#chart-510b0a63-e092-4ff4-88d2-51b9fe8f5536 .showable{visibility:hidden}#chart-510b0a63-e092-4ff4-88d2-51b9fe8f5536 .showable.shown{visibility:visible}#chart-510b0a63-e092-4ff4-88d2-51b9fe8f5536 .gauge-background{fill:rgba(229,229,229,1);stroke:none}#chart-510b0a63-e092-4ff4-88d2-51b9fe8f5536 .bg-lines{stroke:rgba(249,249,249,1);stroke-width:2px}</style><script type=\"text/javascript\">window.pygal = window.pygal || {};window.pygal.config = window.pygal.config || {};window.pygal.config['510b0a63-e092-4ff4-88d2-51b9fe8f5536'] = {\"allow_interruptions\": false, \"box_mode\": \"extremes\", \"classes\": [\"pygal-chart\"], \"css\": [\"file://style.css\", \"file://graph.css\"], \"defs\": [], \"disable_xml_declaration\": false, \"dots_size\": 2.5, \"dynamic_print_values\": false, \"explicit_size\": false, \"fill\": false, \"force_uri_protocol\": \"https\", \"formatter\": null, \"half_pie\": false, \"height\": 300, \"include_x_axis\": false, \"inner_radius\": 0, \"interpolate\": null, \"interpolation_parameters\": {}, \"interpolation_precision\": 250, \"inverse_y_axis\": false, \"js\": [\"//kozea.github.io/pygal.js/2.0.x/pygal-tooltips.min.js\"], \"legend_at_bottom\": false, \"legend_at_bottom_columns\": null, \"legend_box_size\": 12, \"logarithmic\": false, \"margin\": 20, \"margin_bottom\": null, \"margin_left\": null, \"margin_right\": null, \"margin_top\": null, \"max_scale\": 16, \"min_scale\": 4, \"missing_value_fill_truncation\": \"x\", \"no_data_text\": \"No data\", \"no_prefix\": false, \"order_min\": null, \"pretty_print\": false, \"print_labels\": false, \"print_values\": false, \"print_values_position\": \"center\", \"print_zeroes\": true, \"range\": null, \"rounded_bars\": null, \"secondary_range\": null, \"show_dots\": true, \"show_legend\": true, \"show_minor_x_labels\": true, \"show_minor_y_labels\": true, \"show_only_major_dots\": false, \"show_x_guides\": false, \"show_x_labels\": true, \"show_y_guides\": true, \"show_y_labels\": true, \"spacing\": 10, \"stack_from_top\": false, \"strict\": false, \"stroke\": true, \"stroke_style\": null, \"style\": {\"background\": \"rgba(249, 249, 249, 1)\", \"ci_colors\": [], \"colors\": [\"#F44336\", \"#3F51B5\", \"#009688\", \"#FFC107\", \"#FF5722\", \"#9C27B0\", \"#03A9F4\", \"#8BC34A\", \"#FF9800\", \"#E91E63\", \"#2196F3\", \"#4CAF50\", \"#FFEB3B\", \"#673AB7\", \"#00BCD4\", \"#CDDC39\", \"#9E9E9E\", \"#607D8B\"], \"font_family\": \"Consolas, \\\"Liberation Mono\\\", Menlo, Courier, monospace\", \"foreground\": \"rgba(0, 0, 0, .87)\", \"foreground_strong\": \"rgba(0, 0, 0, 1)\", \"foreground_subtle\": \"rgba(0, 0, 0, .54)\", \"guide_stroke_dasharray\": \"4,4\", \"label_font_family\": \"Consolas, \\\"Liberation Mono\\\", Menlo, Courier, monospace\", \"label_font_size\": 10, \"legend_font_family\": \"Consolas, \\\"Liberation Mono\\\", Menlo, Courier, monospace\", \"legend_font_size\": 14, \"major_guide_stroke_dasharray\": \"6,6\", \"major_label_font_family\": \"Consolas, \\\"Liberation Mono\\\", Menlo, Courier, monospace\", \"major_label_font_size\": 10, \"no_data_font_family\": \"Consolas, \\\"Liberation Mono\\\", Menlo, Courier, monospace\", \"no_data_font_size\": 64, \"opacity\": \".7\", \"opacity_hover\": \".8\", \"plot_background\": \"rgba(255, 255, 255, 1)\", \"stroke_opacity\": \".8\", \"stroke_opacity_hover\": \".9\", \"title_font_family\": \"Consolas, \\\"Liberation Mono\\\", Menlo, Courier, monospace\", \"title_font_size\": 16, \"tooltip_font_family\": \"Consolas, \\\"Liberation Mono\\\", Menlo, Courier, monospace\", \"tooltip_font_size\": 14, \"transition\": \"150ms\", \"value_background\": \"rgba(229, 229, 229, 1)\", \"value_colors\": [], \"value_font_family\": \"Consolas, \\\"Liberation Mono\\\", Menlo, Courier, monospace\", \"value_font_size\": 16, \"value_label_font_family\": \"Consolas, \\\"Liberation Mono\\\", Menlo, Courier, monospace\", \"value_label_font_size\": 10}, \"title\": \"Stolen Car Class Distribution\", \"tooltip_border_radius\": 0, \"tooltip_fancy_mode\": true, \"truncate_label\": null, \"truncate_legend\": null, \"width\": 800, \"x_label_rotation\": 0, \"x_labels\": null, \"x_labels_major\": null, \"x_labels_major_count\": null, \"x_labels_major_every\": null, \"x_title\": null, \"xrange\": null, \"y_label_rotation\": 0, \"y_labels\": null, \"y_labels_major\": null, \"y_labels_major_count\": null, \"y_labels_major_every\": null, \"y_title\": null, \"zero\": 0, \"legends\": [\"chevrolet_impala_2008\", \"ford_f150_2006\", \"honda_accord_1997\", \"dodge_ram_2001\", \"toyota_camry_2014\", \"chevrolet_silverado_2004\", \"honda_civic_1998\", \"nissan_altima_2014\", \"gmc_sierra_2012\", \"toyota_corolla_2013\"]}</script><script type=\"text/javascript\" xlink:href=\"https://kozea.github.io/pygal.js/2.0.x/pygal-tooltips.min.js\"/></defs><title>Stolen Car Class Distribution</title><g class=\"graph bar-graph vertical\"><rect class=\"background\" height=\"300\" width=\"800\" x=\"0\" y=\"0\"/><g class=\"plot\" transform=\"translate(196, 46)\"><rect class=\"background\" height=\"234\" width=\"584.0\" x=\"0\" y=\"0\"/><g class=\"axis y always_show\"><g class=\"guides\"><path class=\"axis major line\" d=\"M0.000000 229.500000 h584.000000\"/><text class=\"major\" x=\"-5\" y=\"233.0\">0</text><title>0</title></g><g class=\"guides\"><path class=\"guide line\" d=\"M0.000000 207.000000 h584.000000\"/><text class=\"\" x=\"-5\" y=\"210.5\">0.1</text><title>0.1</title></g><g class=\"guides\"><path class=\"guide line\" d=\"M0.000000 184.500000 h584.000000\"/><text class=\"\" x=\"-5\" y=\"188.0\">0.2</text><title>0.2</title></g><g class=\"guides\"><path class=\"guide line\" d=\"M0.000000 162.000000 h584.000000\"/><text class=\"\" x=\"-5\" y=\"165.5\">0.3</text><title>0.3</title></g><g class=\"guides\"><path class=\"guide line\" d=\"M0.000000 139.500000 h584.000000\"/><text class=\"\" x=\"-5\" y=\"143.0\">0.4</text><title>0.4</title></g><g class=\"guides\"><path class=\"major guide line\" d=\"M0.000000 117.000000 h584.000000\"/><text class=\"major\" x=\"-5\" y=\"120.5\">0.5</text><title>0.5</title></g><g class=\"guides\"><path class=\"guide line\" d=\"M0.000000 94.500000 h584.000000\"/><text class=\"\" x=\"-5\" y=\"98.0\">0.6</text><title>0.6</title></g><g class=\"guides\"><path class=\"guide line\" d=\"M0.000000 72.000000 h584.000000\"/><text class=\"\" x=\"-5\" y=\"75.50000000000003\">0.7</text><title>0.7</title></g><g class=\"guides\"><path class=\"guide line\" d=\"M0.000000 49.500000 h584.000000\"/><text class=\"\" x=\"-5\" y=\"52.99999999999997\">0.8</text><title>0.8</title></g><g class=\"guides\"><path class=\"guide line\" d=\"M0.000000 27.000000 h584.000000\"/><text class=\"\" x=\"-5\" y=\"30.5\">0.9</text><title>0.9</title></g><g class=\"guides\"><path class=\"major guide line\" d=\"M0.000000 4.500000 h584.000000\"/><text class=\"major\" x=\"-5\" y=\"8.0\">1</text><title>1</title></g></g><g class=\"series serie-0 color-0\"><g class=\"bars\"><g class=\"bar\"><rect class=\"rect reactive tooltip-trigger\" height=\"0.0\" rx=\"0\" ry=\"0\" width=\"43.48553846153846\" x=\"47.888\" y=\"229.5\"/><desc class=\"value\">0</desc><desc class=\"x centered\">69.63076923076923</desc><desc class=\"y centered\">229.5</desc></g></g></g><g class=\"series serie-1 color-1\"><g class=\"bars\"><g class=\"bar\"><rect class=\"rect reactive tooltip-trigger\" height=\"0.0\" rx=\"0\" ry=\"0\" width=\"43.48553846153846\" x=\"97.3033846153846\" y=\"229.5\"/><desc class=\"value\">0</desc><desc class=\"x centered\">119.04615384615383</desc><desc class=\"y centered\">229.5</desc></g></g></g><g class=\"series serie-2 color-2\"><g class=\"bars\"><g class=\"bar\"><rect class=\"rect reactive tooltip-trigger\" height=\"0.0\" rx=\"0\" ry=\"0\" width=\"43.48553846153846\" x=\"146.71876923076923\" y=\"229.5\"/><desc class=\"value\">0</desc><desc class=\"x centered\">168.46153846153845</desc><desc class=\"y centered\">229.5</desc></g></g></g><g class=\"series serie-3 color-3\"><g class=\"bars\"><g class=\"bar\"><rect class=\"rect reactive tooltip-trigger\" height=\"0.0\" rx=\"0\" ry=\"0\" width=\"43.48553846153846\" x=\"196.13415384615382\" y=\"229.5\"/><desc class=\"value\">0</desc><desc class=\"x centered\">217.87692307692305</desc><desc class=\"y centered\">229.5</desc></g></g></g><g class=\"series serie-4 color-4\"><g class=\"bars\"><g class=\"bar\"><rect class=\"rect reactive tooltip-trigger\" height=\"0.0\" rx=\"0\" ry=\"0\" width=\"43.48553846153846\" x=\"245.54953846153848\" y=\"229.5\"/><desc class=\"value\">0</desc><desc class=\"x centered\">267.2923076923077</desc><desc class=\"y centered\">229.5</desc></g></g></g><g class=\"series serie-5 color-5\"><g class=\"bars\"><g class=\"bar\"><rect class=\"rect reactive tooltip-trigger\" height=\"0.0\" rx=\"0\" ry=\"0\" width=\"43.48553846153846\" x=\"294.96492307692307\" y=\"229.5\"/><desc class=\"value\">0</desc><desc class=\"x centered\">316.7076923076923</desc><desc class=\"y centered\">229.5</desc></g></g></g><g class=\"series serie-6 color-6\"><g class=\"bars\"><g class=\"bar\"><rect class=\"rect reactive tooltip-trigger\" height=\"0.0\" rx=\"0\" ry=\"0\" width=\"43.48553846153846\" x=\"344.38030769230767\" y=\"229.5\"/><desc class=\"value\">0</desc><desc class=\"x centered\">366.1230769230769</desc><desc class=\"y centered\">229.5</desc></g></g></g><g class=\"series serie-7 color-7\"><g class=\"bars\"><g class=\"bar\"><rect class=\"rect reactive tooltip-trigger\" height=\"0.0\" rx=\"0\" ry=\"0\" width=\"43.48553846153846\" x=\"393.7956923076923\" y=\"229.5\"/><desc class=\"value\">0</desc><desc class=\"x centered\">415.53846153846155</desc><desc class=\"y centered\">229.5</desc></g></g></g><g class=\"series serie-8 color-8\"><g class=\"bars\"><g class=\"bar\"><rect class=\"rect reactive tooltip-trigger\" height=\"0.0\" rx=\"0\" ry=\"0\" width=\"43.48553846153846\" x=\"443.2110769230769\" y=\"229.5\"/><desc class=\"value\">0</desc><desc class=\"x centered\">464.95384615384614</desc><desc class=\"y centered\">229.5</desc></g></g></g><g class=\"series serie-9 color-9\"><g class=\"bars\"><g class=\"bar\"><rect class=\"rect reactive tooltip-trigger\" height=\"0.0\" rx=\"0\" ry=\"0\" width=\"43.48553846153846\" x=\"492.6264615384615\" y=\"229.5\"/><desc class=\"value\">0</desc><desc class=\"x centered\">514.3692307692307</desc><desc class=\"y centered\">229.5</desc></g></g></g></g><g class=\"titles\"><text class=\"title plot_title\" x=\"400.0\" y=\"26\">Stolen Car Class Distribution</text></g><g class=\"plot overlay\" transform=\"translate(196, 46)\"><g class=\"series serie-0 color-0\"/><g class=\"series serie-1 color-1\"/><g class=\"series serie-2 color-2\"/><g class=\"series serie-3 color-3\"/><g class=\"series serie-4 color-4\"/><g class=\"series serie-5 color-5\"/><g class=\"series serie-6 color-6\"/><g class=\"series serie-7 color-7\"/><g class=\"series serie-8 color-8\"/><g class=\"series serie-9 color-9\"/></g><g class=\"plot text-overlay\" transform=\"translate(196, 46)\"><g class=\"series serie-0 color-0\"/><g class=\"series serie-1 color-1\"/><g class=\"series serie-2 color-2\"/><g class=\"series serie-3 color-3\"/><g class=\"series serie-4 color-4\"/><g class=\"series serie-5 color-5\"/><g class=\"series serie-6 color-6\"/><g class=\"series serie-7 color-7\"/><g class=\"series serie-8 color-8\"/><g class=\"series serie-9 color-9\"/></g><g class=\"plot tooltip-overlay\" transform=\"translate(196, 46)\"><g class=\"tooltip\" style=\"opacity: 0\" transform=\"translate(0 0)\"><rect class=\"tooltip-box\" height=\"0\" rx=\"0\" ry=\"0\" width=\"0\"/><g class=\"text\"/></g></g><g class=\"legends\" transform=\"translate(10, 56)\"><g class=\"legend reactive activate-serie\" id=\"activate-serie-0\"><rect class=\"color-0 reactive\" height=\"12\" width=\"12\" x=\"0.0\" y=\"1.0\"/><text x=\"17.0\" y=\"11.2\">chevrolet_impa…</text><title>chevrolet_impala_2008</title></g><g class=\"legend reactive activate-serie\" id=\"activate-serie-1\"><rect class=\"color-1 reactive\" height=\"12\" width=\"12\" x=\"0.0\" y=\"22.0\"/><text x=\"17.0\" y=\"32.2\">ford_f150_2006</text></g><g class=\"legend reactive activate-serie\" id=\"activate-serie-2\"><rect class=\"color-2 reactive\" height=\"12\" width=\"12\" x=\"0.0\" y=\"43.0\"/><text x=\"17.0\" y=\"53.2\">honda_accord_1…</text><title>honda_accord_1997</title></g><g class=\"legend reactive activate-serie\" id=\"activate-serie-3\"><rect class=\"color-3 reactive\" height=\"12\" width=\"12\" x=\"0.0\" y=\"64.0\"/><text x=\"17.0\" y=\"74.2\">dodge_ram_2001</text></g><g class=\"legend reactive activate-serie\" id=\"activate-serie-4\"><rect class=\"color-4 reactive\" height=\"12\" width=\"12\" x=\"0.0\" y=\"85.0\"/><text x=\"17.0\" y=\"95.2\">toyota_camry_2…</text><title>toyota_camry_2014</title></g><g class=\"legend reactive activate-serie\" id=\"activate-serie-5\"><rect class=\"color-5 reactive\" height=\"12\" width=\"12\" x=\"0.0\" y=\"106.0\"/><text x=\"17.0\" y=\"116.2\">chevrolet_silv…</text><title>chevrolet_silverado_2004</title></g><g class=\"legend reactive activate-serie\" id=\"activate-serie-6\"><rect class=\"color-6 reactive\" height=\"12\" width=\"12\" x=\"0.0\" y=\"127.0\"/><text x=\"17.0\" y=\"137.2\">honda_civic_19…</text><title>honda_civic_1998</title></g><g class=\"legend reactive activate-serie\" id=\"activate-serie-7\"><rect class=\"color-7 reactive\" height=\"12\" width=\"12\" x=\"0.0\" y=\"148.0\"/><text x=\"17.0\" y=\"158.2\">nissan_altima_…</text><title>nissan_altima_2014</title></g><g class=\"legend reactive activate-serie\" id=\"activate-serie-8\"><rect class=\"color-8 reactive\" height=\"12\" width=\"12\" x=\"0.0\" y=\"169.0\"/><text x=\"17.0\" y=\"179.2\">gmc_sierra_2012</text></g><g class=\"legend reactive activate-serie\" id=\"activate-serie-9\"><rect class=\"color-9 reactive\" height=\"12\" width=\"12\" x=\"0.0\" y=\"190.0\"/><text x=\"17.0\" y=\"200.2\">toyota_corolla…</text><title>toyota_corolla_2013</title></g></g><g class=\"legends\" transform=\"translate(790, 56)\"/></g></svg>\n",
              "    </figure>\n",
              "  </body>\n",
              "</html>\n"
            ],
            "text/plain": [
              "<IPython.core.display.HTML object>"
            ]
          },
          "metadata": {
            "tags": []
          }
        }
      ]
    },
    {
      "cell_type": "markdown",
      "metadata": {
        "id": "sW35uNFJVRWX"
      },
      "source": [
        "### 2.3 Confirm Folder Structure is Correct\n",
        "\n",
        "To summarize and confirm our progress, we can take a look at the folder tree structure in **Most_Stolen_Cars** to take a look at our images we used to create a smaller subset. \n",
        "\n",
        "Click the cell below and then click **Run**."
      ]
    },
    {
      "cell_type": "code",
      "metadata": {
        "id": "rsSbG38_VRWY",
        "colab": {
          "base_uri": "https://localhost:8080/",
          "height": 397
        },
        "outputId": "3819c80a-2355-4929-d810-03ffb21dfa58"
      },
      "source": [
        "#Confirm Folder Structure\n",
        "for root, dirs, files in os.walk(stolen_cars_path):\n",
        "    level = root.replace(os.getcwd(), '').count(os.sep)\n",
        "    print('{0}{1}/'.format('    ' * level, os.path.basename(root)))\n",
        "    for f in files[:2]:\n",
        "        print('{0}{1}'.format('    ' * (level + 1), f))\n",
        "    if level is not 0:\n",
        "        print('{0}{1}'.format('    ' * (level + 1), \"...\"))        "
      ],
      "execution_count": null,
      "outputs": [
        {
          "output_type": "stream",
          "text": [
            "    Most_Stolen_Cars/\n",
            "        ...\n",
            "        chevrolet_impala_2008/\n",
            "            ...\n",
            "        ford_f150_2006/\n",
            "            ...\n",
            "        honda_accord_1997/\n",
            "            ...\n",
            "        dodge_ram_2001/\n",
            "            ...\n",
            "        toyota_camry_2014/\n",
            "            ...\n",
            "        chevrolet_silverado_2004/\n",
            "            ...\n",
            "        honda_civic_1998/\n",
            "            ...\n",
            "        nissan_altima_2014/\n",
            "            ...\n",
            "        gmc_sierra_2012/\n",
            "            ...\n",
            "        toyota_corolla_2013/\n",
            "            ...\n"
          ],
          "name": "stdout"
        }
      ]
    },
    {
      "cell_type": "markdown",
      "metadata": {
        "id": "0MtQlSxFVRWc"
      },
      "source": [
        "### Create Train, Validation and Test Folders\n",
        "\n",
        "![Create Data Folders](https://storage.googleapis.com/datasetsbyali/intel_assets/EDA_1-4.png)\n",
        "\n",
        "We need to create training, validation and test folders for data ingestion and we'll use 0.7, 0.1, 0.2 ratio for this purpose.\n",
        "\n",
        "Click the cell below and then click **Run**."
      ]
    },
    {
      "cell_type": "code",
      "metadata": {
        "id": "058KkOyeVRWd",
        "colab": {
          "base_uri": "https://localhost:8080/",
          "height": 553
        },
        "outputId": "cfe0fd48-c849-4d6b-e4f5-c0af49e1718e"
      },
      "source": [
        "import math\n",
        "import re\n",
        "import sys\n",
        "\n",
        "#Train and Test Set Variables\n",
        "train_val_test_ratio = (.7,.1,.2) # 70/10/20 Data Split\n",
        "test_folder = '/content/content/test/'\n",
        "train_folder = '/content/content/train/'\n",
        "val_folder = '/content/content/val/'\n",
        "\n",
        "file_names = os.listdir('/content/content/Most_Stolen_Cars')\n",
        "\n",
        "#Remove Existing Folders if they exist\n",
        "for folder in [test_folder, train_folder, val_folder]:\n",
        "    if os.path.exists(folder) and os.path.isdir(folder):\n",
        "        shutil.rmtree(folder)\n",
        "\n",
        "#Remake Category Folders in both Train and Test Folders\n",
        "for category in file_names:\n",
        "    os.makedirs(test_folder + category)\n",
        "    os.makedirs(train_folder + category)\n",
        "    os.makedirs(val_folder + category)\n",
        "\n",
        "#Split Data by Train Ratio and copy files to correct directory\n",
        "for idx, category in enumerate(file_names):\n",
        "    file_list = os.listdir(stolen_cars_path + '/' + category)\n",
        "    \n",
        "    train_ratio = math.floor(len(file_list) * train_val_test_ratio[0])\n",
        "    val_ratio = math.floor(len(file_list) * train_val_test_ratio[1])\n",
        "    train_list = file_list[:train_ratio]\n",
        "    val_list = file_list[train_ratio:train_ratio + val_ratio]\n",
        "    test_list = file_list[train_ratio + val_ratio:]\n",
        "    \n",
        "    for i, file in enumerate(train_list):\n",
        "        shutil.copy(stolen_cars_path + '/' + category + '/' + file, train_folder + '/' + category + '/' + file)\n",
        "    sys.stdout.write('Moving %s train images to category folder %s' % (len(train_list), category))  \n",
        "    sys.stdout.write('\\n')\n",
        "    for i, file in enumerate(val_list):\n",
        "        shutil.copy(stolen_cars_path + '/' + category + '/' + file, val_folder + '/' + category + '/' + file)\n",
        "    sys.stdout.write('Moving %s validation images to category folder %s' % (len(val_list), category))                   \n",
        "    sys.stdout.write('\\n')\n",
        "    for i, file in enumerate(test_list):\n",
        "        shutil.copy(stolen_cars_path + '/' + category + '/' + file, test_folder + '/' + category + '/' + file)\n",
        "    sys.stdout.write('Moving %s test images to category folder %s' % (len(test_list), category))\n",
        "    sys.stdout.write('\\n')\n",
        "    \n",
        "print(\"Done.\")  "
      ],
      "execution_count": null,
      "outputs": [
        {
          "output_type": "stream",
          "text": [
            "Moving 0 train images to category folder chevrolet_impala_2008\n",
            "Moving 0 validation images to category folder chevrolet_impala_2008\n",
            "Moving 0 test images to category folder chevrolet_impala_2008\n",
            "Moving 0 train images to category folder ford_f150_2006\n",
            "Moving 0 validation images to category folder ford_f150_2006\n",
            "Moving 0 test images to category folder ford_f150_2006\n",
            "Moving 0 train images to category folder honda_accord_1997\n",
            "Moving 0 validation images to category folder honda_accord_1997\n",
            "Moving 0 test images to category folder honda_accord_1997\n",
            "Moving 0 train images to category folder dodge_ram_2001\n",
            "Moving 0 validation images to category folder dodge_ram_2001\n",
            "Moving 0 test images to category folder dodge_ram_2001\n",
            "Moving 0 train images to category folder toyota_camry_2014\n",
            "Moving 0 validation images to category folder toyota_camry_2014\n",
            "Moving 0 test images to category folder toyota_camry_2014\n",
            "Moving 0 train images to category folder chevrolet_silverado_2004\n",
            "Moving 0 validation images to category folder chevrolet_silverado_2004\n",
            "Moving 0 test images to category folder chevrolet_silverado_2004\n",
            "Moving 0 train images to category folder honda_civic_1998\n",
            "Moving 0 validation images to category folder honda_civic_1998\n",
            "Moving 0 test images to category folder honda_civic_1998\n",
            "Moving 0 train images to category folder nissan_altima_2014\n",
            "Moving 0 validation images to category folder nissan_altima_2014\n",
            "Moving 0 test images to category folder nissan_altima_2014\n",
            "Moving 0 train images to category folder gmc_sierra_2012\n",
            "Moving 0 validation images to category folder gmc_sierra_2012\n",
            "Moving 0 test images to category folder gmc_sierra_2012\n",
            "Moving 0 train images to category folder toyota_corolla_2013\n",
            "Moving 0 validation images to category folder toyota_corolla_2013\n",
            "Moving 0 test images to category folder toyota_corolla_2013\n",
            "Done.\n"
          ],
          "name": "stdout"
        }
      ]
    },
    {
      "cell_type": "markdown",
      "metadata": {
        "id": "2RPEQoZ9VRWh"
      },
      "source": [
        "### Sample Augmentation\n",
        "\n",
        "While looking at our distribution above we saw that certain classes were significantly lower than others.  To help mitigate that issue we're going to augment some of our data set so that we have a dataset that is more closely distributed.  Below we're taking a look at an example image and showing the effets of augmentation given a certain threshold of modification.  Then we're going to apply these random augmentations to our data.\n",
        "\n",
        "Click the cell below and then click **Run**."
      ]
    },
    {
      "cell_type": "code",
      "metadata": {
        "id": "5jCnCWXxVRWj"
      },
      "source": [
        "import random\n",
        "import numpy as np\n",
        "from keras.preprocessing.image import ImageDataGenerator, array_to_img, img_to_array, load_img\n",
        "\n",
        "#Select a random image and follow the next step\n",
        "datagen = ImageDataGenerator(rotation_range=45, \n",
        "                             width_shift_range=0.2, \n",
        "                             height_shift_range=0.2, \n",
        "                             zoom_range=0.3, \n",
        "                             vertical_flip=True,\n",
        "                             horizontal_flip=True, \n",
        "                             fill_mode=\"nearest\")\n",
        "#Load example image\n",
        "file_list = glob.glob(\"../Dataset/test/*/*\")\n",
        "img_path = random.choice(file_list)\n",
        "img = load_img(img_path)\n",
        "car_class = img_path.split(\"/\")[1]\n",
        "plt.imshow(img)\n",
        "plt.axis(\"off\")\n",
        "plt.title(\"Original \" + car_class, fontsize=16)\n",
        "\n",
        "img = img_to_array(img)\n",
        "img = img.reshape((1,) + img.shape)\n",
        "#Apply different augmentation techniques\n",
        "n_augmentations = 4\n",
        "plt.figure(figsize=(15, 6))    \n",
        "i = 0\n",
        "for batch in datagen.flow(img, \n",
        "                          batch_size=1, \n",
        "                          seed=21):\n",
        "    \n",
        "    plt.subplot(2, int(np.ceil(n_augmentations * 1. / 2)), i + 1)\n",
        "    plt.imshow(array_to_img(batch[0]))\n",
        "    plt.axis(\"off\")\n",
        "    plt.suptitle(\"Augmented \" + car_class, fontsize=16)    \n",
        "    \n",
        "    i += 1\n",
        "    if i >= n_augmentations:\n",
        "        break"
      ],
      "execution_count": null,
      "outputs": []
    },
    {
      "cell_type": "markdown",
      "metadata": {
        "id": "9wmN11dfVRWm"
      },
      "source": [
        "### Finalize Augmented Dataset for Training \n",
        "\n",
        "![Data Augmentation](https://storage.googleapis.com/datasetsbyali/intel_assets/EDA_1-5.png)\n",
        "\n",
        "By using the augmentation techniques we have learned, we can oversample minority classes in training set. We are not going to do these steps in validation or test in order not to create any bias on the data. \n",
        "\n",
        "**Activity**\n",
        "\n",
        "Click the cell below and then click **Run**."
      ]
    },
    {
      "cell_type": "code",
      "metadata": {
        "id": "lgQZuqqlVRWm"
      },
      "source": [
        "#Oversampling Minority Classes in Training Set\n",
        "def data_augment(data_dir):\n",
        "    list_of_images = os.listdir(data_dir)\n",
        "    datagen = ImageDataGenerator(rotation_range=45, \n",
        "        horizontal_flip=True, \n",
        "        fill_mode=\"nearest\")\n",
        "    for img_name in list_of_images:\n",
        "        tmp_img_name = os.path.join(data_dir, img_name)\n",
        "        img = load_img(tmp_img_name)\n",
        "        img = img_to_array(img)\n",
        "        img = img.reshape((1,) + img.shape)\n",
        "\n",
        "        batch = datagen.flow(img, \n",
        "            batch_size=1, \n",
        "            seed=21,\n",
        "            save_to_dir=data_dir, \n",
        "            save_prefix=img_name.split(\".jpg\")[0] + \"augmented\", \n",
        "            save_format=\"jpg\")\n",
        "\n",
        "        batch.next()\n",
        "\n",
        "classes_to_augment = [\n",
        "    \"toyota_camry_2014\",\n",
        "    \"nissan_altima_2014\",\n",
        "    \"toyota_corolla_2013\",\n",
        "    \"gmc_sierra_2012\"]\n",
        "\n",
        "for class_names in classes_to_augment:\n",
        "    print(\"Currently Augmenting:\", class_names)\n",
        "    data_dir = os.path.join(train_folder, class_names)\n",
        "    data_augment(data_dir)"
      ],
      "execution_count": null,
      "outputs": []
    },
    {
      "cell_type": "markdown",
      "metadata": {
        "id": "-uCECEN6VRWp"
      },
      "source": [
        "### Resize Images\n",
        "\n",
        "![Resize Images](https://storage.googleapis.com/datasetsbyali/intel_assets/EDA_1-6.png)\n",
        "\n",
        "Depending on the toplogy, we need to resize the images with the expected image format. Since we're going to be using InceptionV3 in the next section we're going to match the size, 299x299, for that topology. \n",
        "\n",
        "**Activity**\n",
        "\n",
        "Click the cell below and then click **Run**."
      ]
    },
    {
      "cell_type": "code",
      "metadata": {
        "id": "ZgSMNa_aVRWp"
      },
      "source": [
        "from functools import partial\n",
        "\n",
        "#Resize Images\n",
        "if __name__ == '__main__':\n",
        "    pool = Pool()\n",
        "    image_list = glob.glob(train_folder + \"/*/*\")\n",
        "    func = partial(vmmr_utils.resize_image, size=299)\n",
        "    pool.map(func, image_list)\n",
        "    pool.close()\n",
        "\n",
        "vmmr_utils.display_images(train_folder)"
      ],
      "execution_count": null,
      "outputs": []
    },
    {
      "cell_type": "markdown",
      "metadata": {
        "id": "Mz6GpX2-VRWs"
      },
      "source": [
        "### Look at Distribution of Selected Classes again\n",
        "\n",
        "![View New Data Distribution](https://storage.googleapis.com/datasetsbyali/intel_assets/EDA_1-7.png)\n",
        "\n",
        "Now that we've done some augmentation to the dataset we want to see how the distribution has changed compared to before the augmentation.  In this case we're only going to be looking at the train folder, since we only augmented the train dataset, so the numbers will be slightly lower than the full dataset distribution graph from earlier.  \n",
        "\n",
        "Click the cell below and then click **Run**."
      ]
    },
    {
      "cell_type": "code",
      "metadata": {
        "id": "F55nnxepVRWs"
      },
      "source": [
        "#Compare class distribution\n",
        "line_chart = pygal.Bar(height=300)\n",
        "line_chart.title = 'Most Stolen Car Training Class Distribution'\n",
        "for o in os.listdir(train_folder):\n",
        "    line_chart.add(o, len(os.listdir(os.path.join(train_folder, o))))\n",
        "galplot(line_chart)   "
      ],
      "execution_count": null,
      "outputs": []
    },
    {
      "cell_type": "markdown",
      "metadata": {
        "id": "MlnTnkSzVRWw"
      },
      "source": [
        "## Summary \n",
        "**In this section of the training you learned**\n",
        "- Fetch and visually inspect a dataset \n",
        "- Create a dataset to address a real life problem\n",
        "- Image Preprocessing and Data Augmentation Techniques\n",
        "- Address Imbalanced Dataset Problem\n",
        "- Organize a dataset into training, validation and testing groups\n",
        "- Finalize an augmented dataset for training, and testing\n",
        "\n",
        "You now should understand ways to find a data set and to prepare a data set for machine learning and training."
      ]
    },
    {
      "cell_type": "markdown",
      "metadata": {
        "id": "YJvPW1nDVRWw"
      },
      "source": [
        "## Citations\n",
        "\n",
        "A Large and Diverse Dataset for Improved Vehicle Make and Model Recognition\n",
        "F. Tafazzoli, K. Nishiyama and H. Frigui\n",
        "In Proceedings of the IEEE Conference on Computer Vision and Pattern Recognition (CVPR) Workshops 2017. \n"
      ]
    },
    {
      "cell_type": "markdown",
      "metadata": {
        "id": "U8ThWeCg1NeV"
      },
      "source": [
        "## Next Goto Part 2 Notebook "
      ]
    }
  ]
}